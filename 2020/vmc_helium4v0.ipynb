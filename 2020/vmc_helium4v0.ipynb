{
  "nbformat": 4,
  "nbformat_minor": 0,
  "metadata": {
    "colab": {
      "name": "vmc_helium4v0.ipynb",
      "provenance": [],
      "collapsed_sections": []
    },
    "kernelspec": {
      "name": "python3",
      "display_name": "Python 3"
    }
  },
  "cells": [
    {
      "cell_type": "markdown",
      "metadata": {
        "id": "sTSdbQqick_U",
        "colab_type": "text"
      },
      "source": [
        "Sample code for variational Monte Carlo method for helium 4"
      ]
    },
    {
      "cell_type": "code",
      "metadata": {
        "id": "x1wRy-EDtX2I",
        "colab_type": "code",
        "colab": {}
      },
      "source": [
        "import numpy as np # library for numerics\n",
        "import scipy.linalg as la # library for linear algebra\n",
        "import scipy.sparse.linalg as sla # library for sparse linear algebra\n",
        "from scipy.sparse import csr_matrix, csc_matrix, coo_matrix, lil_matrix\n",
        "import random as rd # library for random numbers\n",
        "import matplotlib.pyplot as plt # library for plot"
      ],
      "execution_count": null,
      "outputs": []
    },
    {
      "cell_type": "markdown",
      "metadata": {
        "id": "3bnWm2va3_fh",
        "colab_type": "text"
      },
      "source": [
        "Class for a variational wave function for helium 4 by W. L. McMillan, in Phys. Rev. 138, A442 (1965):"
      ]
    },
    {
      "cell_type": "markdown",
      "metadata": {
        "id": "dinG9pdi4qth",
        "colab_type": "text"
      },
      "source": [
        "$\\psi (\\vec{r}_1 , \\vec{r}_2 , \\dots , \\vec{r}_N)\n",
        "=\n",
        "\\prod_{i<j; i,j=1}^{N}f(r_{ij})$, where $f(r)=\\exp [-u (r)]$ and $u(r) = (a_1/r)^{a_2}$"
      ]
    },
    {
      "cell_type": "code",
      "metadata": {
        "id": "Ab8n1JE146d0",
        "colab_type": "code",
        "colab": {}
      },
      "source": [
        "class helium4:\n",
        "\n",
        " # constructor\n",
        "  def __init__(self,L,N,a1,a2):\n",
        "    self.L = L # lnear length of cubic\n",
        "    self.N = N # particle number\n",
        "    self.a1 = a1 # variational parameter defines length scale\n",
        "    self.a2 = a2 # power\n",
        "    self.rcut = 0.5*a1 # cutoff for particle-particle distance\n",
        "    self.config = np.zeros((N,3),dtype=np.float64) # real space particle configuration\n",
        "    self.dist = np.zeros((N,N),dtype=np.float64) # two-particle distance\n",
        " \n",
        " # u(r)\n",
        "  def function_u(self,r):\n",
        "    if r > self.rcut:\n",
        "      uofr = (self.a1/r)**self.a2\n",
        "    else:\n",
        "      uofr = (self.a1/self.rcut)**self.a2\n",
        "    return uofr\n",
        "\n",
        "# initialize config and dist\n",
        "  def initialize_config(self):\n",
        "    for j in range(self.N):\n",
        "      for i in range(3):\n",
        "        self.config[j][i] = self.L * rd.random()\n",
        "    for iupdate in range(self.N):\n",
        "      self.update_dist(iupdate)\n",
        "\n",
        "# update position of the iupdate th particle in config\n",
        "  def update_config(self,iupdate):\n",
        "    d = 0.05*self.L\n",
        "    for i in range(3):\n",
        "      self.config[iupdate][i] += 2.0*d*(rd.random()-0.5)\n",
        "      if self.config[iupdate][i] > self.L:\n",
        "        self.config[iupdate][i] -= self.L\n",
        "      elif self.config[iupdate][i] < 0.0:\n",
        "        self.config[iupdate][i] += self.L\n",
        "\n",
        "# update distance between the iupdate th particle and others in dist\n",
        "  def update_dist(self,iupdate):\n",
        "    for j in range(self.N):\n",
        "      tmp_dist = self.dist_periodic(he4.config[j],he4.config[iupdate]) \n",
        "      if tmp_dist > self.rcut:\n",
        "        self.dist[j,iupdate] = tmp_dist\n",
        "        self.dist[iupdate,j] = tmp_dist\n",
        "      else:\n",
        "        self.dist[j,iupdate] = self.rcut\n",
        "        self.dist[iupdate,j] = self.rcut\n",
        "\n",
        "# return shortest distance between two particles (where their position is given by vec1, vec2) in 3D torus\n",
        "  def dist_periodic(self,vec1,vec2): \n",
        "    dist_old = np.sqrt(3.0)*self.L\n",
        "    for iz in range(-1,2):\n",
        "      for iy in range(-1,2):\n",
        "        for ix in range(-1,2):\n",
        "          tmp_dist = 0.0\n",
        "          tmp_dist += ( self.L*ix + vec1[0] - vec2[0])**2\n",
        "          tmp_dist += ( self.L*iy + vec1[1] - vec2[1])**2\n",
        "          tmp_dist += ( self.L*iz + vec1[2] - vec2[2])**2\n",
        "          tmp_dist = np.sqrt(tmp_dist)\n",
        "          if tmp_dist < dist_old:\n",
        "            dist_old = tmp_dist\n",
        "    return dist_old\n",
        "\n",
        "# accumulate samples for two point distribution function\n",
        "  def accum_Nrdr(self,Ndr,Nrdr): \n",
        "    rmax = 0.5*self.L\n",
        "    dr = rmax/Ndr\n",
        "    for m in range(Ndr):\n",
        "      r = rmax*(m + 0.5)/Ndr\n",
        "      for i in range(self.N-1):\n",
        "        for j in range(i+1,self.N):\n",
        "          if self.dist[i][j] >= r - 0.5*dr and self.dist[i][j] < r + 0.5*dr:\n",
        "            Nrdr[m] = Nrdr[m] + 1.0\n",
        "\n",
        "# calculate two particle distribution function (see Lecture No.7)\n",
        "  def calc_gofr(self,Nsample,Ndr,Nrdr,gofr,vecr): \n",
        "    Omega = self.L**3\n",
        "    rho = 1.0*self.N / Omega\n",
        "    rmax = 0.5*self.L\n",
        "    dr = rmax/Ndr\n",
        "    for m in  range(Ndr):\n",
        "      r = rmax*(m+0.5)/Ndr\n",
        "      vecr[m] = r\n",
        "      gofr[m] = Nrdr[m]/(2.0*Nsample*np.pi*rho*rho*Omega*r*r*dr)\n"
      ],
      "execution_count": null,
      "outputs": []
    },
    {
      "cell_type": "markdown",
      "metadata": {
        "id": "WVYr1Ykw-SZJ",
        "colab_type": "text"
      },
      "source": [
        "Complte the following MC sampling by Metropolis algorithm with probability $P(\\vec{r}_1 , \\vec{r}_2 , \\dots , \\vec{r}_N) \\propto |\\psi (\\vec{r}_1 , \\vec{r}_2 , \\dots , \\vec{r}_N)|^2$."
      ]
    },
    {
      "cell_type": "code",
      "metadata": {
        "id": "mMpZEdw6kGzE",
        "colab_type": "code",
        "colab": {}
      },
      "source": [
        "rd.seed(10) # fix the seed for random number generation\n",
        "# construct McMillan's wave function: N=32 particles in L^3 3D torus (L=11.2 angstrom) and a1=2.6 angstrom and a2=5\n",
        "he4 = helium4(11.2,32,2.6,5)\n",
        "he4.initialize_config()\n",
        "# prepare arrays for calculation of g(r) \n",
        "Ndr = 64\n",
        "Nrdr = np.zeros((Ndr),dtype=np.float64)\n",
        "gofr = np.zeros((Ndr),dtype=np.float64) # vector for g(r)\n",
        "vecr = np.zeros((Ndr),dtype=np.float64) # vector for r\n",
        "# Nwup: number of warmup/brun-in steps\n",
        "Nwup = 400\n",
        "# Nsample: number of MC steps\n",
        "Nsample = 3200\n",
        "# preparation for Metropolis update\n",
        "config_old = np.zeros((he4.N,3),dtype=np.float64)\n",
        "dist_old = np.zeros((he4.N,he4.N),dtype=np.float64)\n",
        "for i in range(Nwup):\n",
        "  for j in range(he4.N):\n",
        "    config_old[:][:] = he4.config[:][:]\n",
        "    dist_old[:][:] = he4.dist[:][:]\n",
        "    # choose a particle to be updated\n",
        "    iupdate = rd.randrange(he4.N)\n",
        "    # update the position of the iupdate th particle\n",
        "    he4.update_config(iupdate)\n",
        "    he4.update_dist(iupdate)\n",
        "    # begin Metropolis\n",
        "    # end Metropolis\n",
        "  if i%100 == 0:\n",
        "    print(i,\"the step for warmup\")\n",
        "\n",
        "for i in range(Nsample):\n",
        "  for j in range(he4.N):\n",
        "    config_old[:][:] = he4.config[:][:]\n",
        "    dist_old[:][:] = he4.dist[:][:]\n",
        "    # choose a particle to be updated\n",
        "    iupdate = rd.randrange(he4.N)\n",
        "    # update the position of the iupdate th particle\n",
        "    he4.update_config(iupdate)\n",
        "    he4.update_dist(iupdate)\n",
        "    # begin Metropolis\n",
        "    # begin Metropolis\n",
        "  if i%100 == 0:\n",
        "    print(i,\"the MC step\")\n",
        "#  he4.accum_Nrdr(Ndr,Nrdr)\n",
        "#he4.calc_gofr(Nsample,Ndr,Nrdr,gofr,vecr)\n",
        "#plt.plot(vecr,gofr)\n",
        "#for i in range(Ndr):\n",
        "#  print(vecr[i],\" \",gofr[i])"
      ],
      "execution_count": null,
      "outputs": []
    }
  ]
}