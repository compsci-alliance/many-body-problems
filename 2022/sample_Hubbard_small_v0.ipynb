{
  "nbformat": 4,
  "nbformat_minor": 0,
  "metadata": {
    "colab": {
      "name": "sample_Hubbard_small.ipynb",
      "provenance": [],
      "collapsed_sections": [
        "7QGiKvljl1US"
      ],
      "toc_visible": true
    },
    "kernelspec": {
      "name": "julia-1.7",
      "display_name": "julia-1.7"
    },
    "accelerator": "GPU",
    "gpuClass": "standard"
  },
  "cells": [
    {
      "cell_type": "markdown",
      "metadata": {
        "id": "ys8CxQ9llTsl"
      },
      "source": [
        "## Introducing JuliaLang\n",
        "\n",
        "While Python is the standard language in Google Colab., JuliaLang, which is faster and as flexible as Python, will be a primary choice in the exercise of the quantum many-body problems.\n",
        "\n",
        "First of all, please execute the instruction of the following cell.\n",
        "\n",
        "Type shitf+enter or use the button on the right-hand side of the cell.\n",
        "\n",
        "The procedure to run JuliaLang on Google Colab., which was originally introduced by a developer in Google, is explained in the following articles written in Japanese:\n",
        "\n",
        "https://qiita.com/ueuema/items/ca1b326f5df10a4203bd\n",
        "\n",
        "https://qiita.com/cometscome_phys/items/1ba6ec181bb0fe1b35d5"
      ]
    },
    {
      "cell_type": "code",
      "metadata": {
        "id": "EojTP1RjlTso"
      },
      "source": [
        "!curl -sSL \"https://julialang-s3.julialang.org/bin/linux/x64/1.7/julia-1.7.2-linux-x86_64.tar.gz\" -o julia.tar.gz\n",
        "!tar -xzf julia.tar.gz -C /usr --strip-components 1\n",
        "!rm -rf julia.tar.gz*\n",
        "!julia -e 'using Pkg; Pkg.add(\"IJulia\")'"
      ],
      "execution_count": null,
      "outputs": []
    },
    {
      "cell_type": "markdown",
      "metadata": {
        "id": "viPOnfBhlTsp"
      },
      "source": [
        "## Settings of runtime\n",
        "\n",
        "After executing the instructions in the above cell,\n",
        "\n",
        "please check whether the runtime is \"julia-1.7\" or not. \n",
        "\n",
        "From the \"runtime\" in the menue, you can change the runtime.\n",
        "\n",
        "When the runtime is \"julia-1.7,\" please preserve the settings.\n",
        "\n",
        "## Examining whether JuliaLang is introduced successfully or not\n",
        "\n",
        "Please execute the instruction in the following cell.\n",
        "\n",
        "**If you find the version information of JuliaLang, you introduced Julia successfully**"
      ]
    },
    {
      "cell_type": "code",
      "metadata": {
        "id": "rMGPBZ4HlTsq"
      },
      "source": [
        "versioninfo()"
      ],
      "execution_count": null,
      "outputs": []
    },
    {
      "cell_type": "markdown",
      "source": [
        "# An example of numerical simulations by JuliaLang\n",
        "\n",
        "Then, let's run an example of a Julia code."
      ],
      "metadata": {
        "id": "7QGiKvljl1US"
      }
    },
    {
      "cell_type": "markdown",
      "source": [
        "# Hubbard model\n",
        "\n",
        "2nd quantization for electrons:\n",
        "\n",
        "$|\\Phi\\rangle = \\sum_{\\nu_{j} = 0,1}C_{\\nu_0 \\nu_1 \\nu_2 \\nu_3 \\cdots\n",
        "\\nu_{2\\ell}\\nu_{2\\ell+1}\n",
        "\\cdots\n",
        "\\nu_{2L-2}\\nu_{2L-1}\n",
        "}(\\hat{c}^{\\dagger}_{0\\uparrow})^{\\nu_0}\n",
        "(\\hat{c}^{\\dagger}_{0\\downarrow})^{\\nu_1}\n",
        "(\\hat{c}^{\\dagger}_{1\\uparrow})^{\\nu_2}\n",
        "(\\hat{c}^{\\dagger}_{1\\downarrow})^{\\nu_3}\n",
        "\\cdots\n",
        "(\\hat{c}^{\\dagger}_{\\ell \\uparrow})^{\\nu_{2\\ell }}\n",
        "(\\hat{c}^{\\dagger}_{\\ell \\downarrow})^{\\nu_{2\\ell +1}}\n",
        "\\cdots\n",
        "(\\hat{c}^{\\dagger}_{L-1 \\uparrow})^{\\nu_{2L -2 }}\n",
        "(\\hat{c}^{\\dagger}_{L-1 \\downarrow})^{\\nu_{2L -1}}\n",
        "|0\\rangle$\n",
        "\n",
        "$\\rightarrow$\n",
        "\n",
        "$v\\left[1+\\sum_{j=0}^{2L-1} \\nu_j \\cdot 2^j \\right] =  C_{\\nu_0 \\nu_1 \\nu_2 \\nu_3 \\cdots\n",
        "\\nu_{2\\ell}\\nu_{2\\ell+1}\\cdots\n",
        "\\nu_{2L-2}\\nu_{2L-1}}$"
      ],
      "metadata": {
        "id": "l_taaW0km8HI"
      }
    },
    {
      "cell_type": "code",
      "source": [
        "module Hubbard1D\n",
        "#\n",
        "  mutable struct Param\n",
        "    t::Float64\n",
        "    U::Float64\n",
        "    L::Int64\n",
        "    Param() = new()\n",
        "  end\n",
        "#\n",
        "  function initialize(param::Param, t, U, L)\n",
        "    param.t = t\n",
        "    param.U = U\n",
        "    param.L = L\n",
        "  end\n",
        "#\n",
        "function parity(m)\n",
        "    m ⊻= m>>1 # XOR\n",
        "    m ⊻= m>>2 # XOR\n",
        "    m = (m&Int64(0x1111111111111111) ) *  Int64(0x1111111111111111)\n",
        "    return (m>>60)&1\n",
        "end\n",
        "#\n",
        "function Cop(ell,i,c0)\n",
        "  icomb = 2^ell\n",
        "  if parity(i&icomb) == 1\n",
        "    return i,0.0\n",
        "  else\n",
        "    j = i⊻icomb\n",
        "    sgn = 1.0 - 2.0*parity(i&(icomb-1))\n",
        "    return j, c0 * sgn\n",
        "  end\n",
        "end\n",
        "#\n",
        "function Aop(ell,i,c0)\n",
        "  icomb = 2^ell\n",
        "  if parity(i&icomb) == 0\n",
        "    return i,0.0\n",
        "  else\n",
        "    j = i⊻icomb\n",
        "    sgn = 1.0 - 2.0*parity(i&(icomb-1))\n",
        "    return j, c0 * sgn\n",
        "  end\n",
        "end\n",
        "# Hubbard hamiltonian\n",
        "  function multiply(param::Param,v0,v1)\n",
        "    for k = 1:2^(2*param.L)\n",
        "        c0 = v0[k]\n",
        "        i = k - 1\n",
        "        # define 1D Hubbard\n",
        "        for ell = 0:param.L-1\n",
        "          j1, c1 = Aop(2*ell,i,c0)\n",
        "          j2, c2 = Cop(2*mod(ell+1,param.L),j1,c1)\n",
        "          v1[j2+1] -= param.t * c2\n",
        "          j1, c1 = Aop(2*ell,i,c0)\n",
        "          j2, c2 = Cop(2*mod(ell-1,param.L),j1,c1)\n",
        "          v1[j2+1] -= param.t * c2\n",
        "          j1, c1 = Aop(2*ell+1,i,c0)\n",
        "          j2, c2 = Cop(2*mod(ell+1,param.L)+1,j1,c1)\n",
        "          v1[j2+1] -= param.t * c2\n",
        "          j1, c1 = Aop(2*ell+1,i,c0)\n",
        "          j2, c2 = Cop(2*mod(ell-1,param.L)+1,j1,c1)\n",
        "          v1[j2+1] -= param.t * c2\n",
        "          j1, c1 = Aop(2*ell,i,c0)\n",
        "          j2, c2 = Cop(2*ell,j1,c1)\n",
        "          j1, c1 = Aop(2*ell+1,j2,c2)\n",
        "          j2, c2 = Cop(2*ell+1,j1,c1)\n",
        "          v1[j2+1] += param.U * c2\n",
        "        end\n",
        "    end\n",
        "    return 0\n",
        "  end\n",
        "#\n",
        "  function countbit(i,length)\n",
        "    j = 0\n",
        "    for k = 0:length-1\n",
        "      icomb = 2^k\n",
        "      j += parity(i&icomb)\n",
        "    end\n",
        "    return j\n",
        "  end\n",
        "#\n",
        "end"
      ],
      "metadata": {
        "colab": {
          "base_uri": "https://localhost:8080/"
        },
        "id": "8fU3kB6cnAtu",
        "outputId": "14247fb1-1305-45b8-ecbb-6584511fec0c"
      },
      "execution_count": 2,
      "outputs": [
        {
          "output_type": "execute_result",
          "data": {
            "text/plain": [
              "Main.Hubbard1D"
            ]
          },
          "metadata": {},
          "execution_count": 2
        }
      ]
    },
    {
      "cell_type": "markdown",
      "source": [
        "## Exercise"
      ],
      "metadata": {
        "id": "bmE9Cf-J_5iV"
      }
    },
    {
      "cell_type": "code",
      "source": [
        "using .Hubbard1D"
      ],
      "metadata": {
        "id": "BYr0uGPdnFpf"
      },
      "execution_count": 3,
      "outputs": []
    },
    {
      "cell_type": "markdown",
      "source": [
        "### parity: whether the number of electrons is even (0) or odd (1)."
      ],
      "metadata": {
        "id": "6w0r3TKWkaQK"
      }
    },
    {
      "cell_type": "code",
      "source": [
        "Hubbard1D.parity(Int(0b1011)) # 0th up, 0th down, 1th down"
      ],
      "metadata": {
        "colab": {
          "base_uri": "https://localhost:8080/"
        },
        "id": "N9rhK26lj7TP",
        "outputId": "c1dbc814-398d-471e-c5e1-1335409cd063"
      },
      "execution_count": 4,
      "outputs": [
        {
          "output_type": "execute_result",
          "data": {
            "text/plain": [
              "1"
            ]
          },
          "metadata": {},
          "execution_count": 4
        }
      ]
    },
    {
      "cell_type": "markdown",
      "source": [
        "### creation and annihilation operators"
      ],
      "metadata": {
        "id": "Kszo-QbDldSY"
      }
    },
    {
      "cell_type": "code",
      "source": [
        "ell = 4\n",
        "icomb = 2^ell\n",
        "string(icomb, base=2)\n",
        "i = Int(0b1101) # 0th up, 1th up, 1th down \n",
        "println(\"i=\",i) # digit for \"1101\"\n",
        "j,c1= Hubbard1D.Cop(1,i,1.0) # generate an down-spin electron at 0th site \n",
        "println(string(j, base=2),\"  \",c1)\n",
        "j,c1= Hubbard1D.Aop(2,i,1.0) # annihilate an up-spin electron at 1st site\n",
        "string(j, base=2)"
      ],
      "metadata": {
        "colab": {
          "base_uri": "https://localhost:8080/"
        },
        "id": "2vQoKBV8kBFy",
        "outputId": "77b8d713-334e-49ce-a233-91a87e3f8732"
      },
      "execution_count": 5,
      "outputs": [
        {
          "output_type": "stream",
          "name": "stdout",
          "text": [
            "i=13\n",
            "1111  -1.0\n"
          ]
        },
        {
          "output_type": "execute_result",
          "data": {
            "text/plain": [
              "\"1001\""
            ]
          },
          "metadata": {},
          "execution_count": 5
        }
      ]
    },
    {
      "cell_type": "markdown",
      "source": [
        "### Two site Hubbard model"
      ],
      "metadata": {
        "id": "mkLas0pIa2wz"
      }
    },
    {
      "cell_type": "code",
      "source": [
        "t = 0.5 # be careful about the boundary condition\n",
        "U = 8.0\n",
        "L = 2\n",
        "nelec = 2\n",
        "param = Hubbard1D.Param()\n",
        "Hubbard1D.initialize(param,t,U,L)\n",
        "v0 = zeros(Complex{Float64}, 2^(2*param.L))\n",
        "#\n",
        "Ndim = 0\n",
        "println(\"basis\")\n",
        "for k = 1:2^(2*param.L)\n",
        "  if Hubbard1D.countbit(k-1,2*param.L) == nelec\n",
        "    global Ndim += 1\n",
        "    println(Ndim,\"  \",string(k-1,base=2))\n",
        "  end\n",
        "end\n",
        "# construct the hamiltonian matrix\n",
        "matrixH = zeros(Complex{Float64}, Ndim, Ndim)\n",
        "jcount = 0\n",
        "for k = 1:2^(2*param.L)\n",
        "  if Hubbard1D.countbit(k-1,2*param.L) == nelec\n",
        "    jcount +=1\n",
        "    v0[k] = 1.0\n",
        "    v1 = zeros(Complex{Float64}, 2^(2*param.L))\n",
        "    Hubbard1D.multiply(param,v0,v1)\n",
        "    v0[k] = 0.0\n",
        "    icount = 0\n",
        "    for m = 1:2^(2*param.L)\n",
        "      if Hubbard1D.countbit(m-1,2*param.L) == nelec\n",
        "        icount += 1\n",
        "        matrixH[icount,jcount] += v1[m]\n",
        "      end\n",
        "    end\n",
        "  end\n",
        "end"
      ],
      "metadata": {
        "colab": {
          "base_uri": "https://localhost:8080/"
        },
        "id": "bCgihRrjnU5h",
        "outputId": "63ef4630-367c-468e-d8b8-e5e484f26d6f"
      },
      "execution_count": 6,
      "outputs": [
        {
          "output_type": "stream",
          "name": "stdout",
          "text": [
            "basis\n",
            "1  11\n",
            "2  101\n",
            "3  110\n",
            "4  1001\n",
            "5  1010\n",
            "6  1100\n"
          ]
        }
      ]
    },
    {
      "cell_type": "markdown",
      "source": [
        "Please confirm the following calculation:\n",
        "\n",
        "$\\langle0|\n",
        "(\\hat{c}^{\\ }_{L-1 \\downarrow})^{\\nu'_{2L -1}}\n",
        "(\\hat{c}^{\\ }_{L-1 \\uparrow})^{\\nu'_{2L -2 }}\n",
        "\\cdots\n",
        "(\\hat{c}^{\\ }_{1\\downarrow})^{\\nu'_3}\n",
        "(\\hat{c}^{\\ }_{1\\uparrow})^{\\nu'_2}\n",
        "(\\hat{c}^{\\ }_{0\\downarrow})^{\\nu'_1}\n",
        "(\\hat{c}^{\\ }_{0\\uparrow})^{\\nu'_0}\n",
        "$\n",
        "\n",
        "$\\times\n",
        "(\\hat{c}^{\\dagger}_{0\\uparrow})^{\\nu_0}\n",
        "(\\hat{c}^{\\dagger}_{0\\downarrow})^{\\nu_1}\n",
        "(\\hat{c}^{\\dagger}_{1\\uparrow})^{\\nu_2}\n",
        "(\\hat{c}^{\\dagger}_{1\\downarrow})^{\\nu_3}\n",
        "\\cdots\n",
        "(\\hat{c}^{\\dagger}_{L-1 \\uparrow})^{\\nu_{2L -2 }}\n",
        "(\\hat{c}^{\\dagger}_{L-1 \\downarrow})^{\\nu_{2L -1}}\n",
        "|0\\rangle$\n",
        "\n",
        "$= \\delta_{\\nu_0,\\nu'_0}\n",
        "\\delta_{\\nu_1,\\nu'_1}\n",
        "\\delta_{\\nu_2,\\nu'_2}\n",
        "\\delta_{\\nu_3,\\nu'_3}\n",
        "\\cdots\n",
        "\\delta_{\\nu_{2L-2},\\nu'_{2L-2}}\n",
        "\\delta_{\\nu_{2L-1},\\nu'_{2L-1}}$"
      ],
      "metadata": {
        "id": "t8xEmJ3BnKxg"
      }
    },
    {
      "cell_type": "markdown",
      "source": [
        "diagonalize the hamiltonian matrix"
      ],
      "metadata": {
        "id": "iYBtYeNPm21h"
      }
    },
    {
      "cell_type": "code",
      "source": [
        "using LinearAlgebra\n",
        "eig = eigvals(matrixH)\n",
        "wf = eigvecs(matrixH)\n",
        "println(\"E_0=\",eig[1])\n",
        "wf[:,1]"
      ],
      "metadata": {
        "colab": {
          "base_uri": "https://localhost:8080/"
        },
        "id": "LzFRZX5mnYSx",
        "outputId": "6e806329-8234-45a0-aea6-d3cbccf67423"
      },
      "execution_count": 7,
      "outputs": [
        {
          "output_type": "stream",
          "name": "stdout",
          "text": [
            "E_0=-0.4721359549995794\n"
          ]
        },
        {
          "output_type": "execute_result",
          "data": {
            "text/plain": [
              "6-element Vector{ComplexF64}:\n",
              " 0.16245984811645325 + 0.0im\n",
              "                 0.0 + 0.0im\n",
              " -0.6881909602355867 + 0.0im\n",
              "  0.6881909602355867 + 0.0im\n",
              "                 0.0 + 0.0im\n",
              " 0.16245984811645298 - 0.0im"
            ]
          },
          "metadata": {},
          "execution_count": 7
        }
      ]
    }
  ]
}