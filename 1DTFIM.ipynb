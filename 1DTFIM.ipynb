{
  "nbformat": 4,
  "nbformat_minor": 0,
  "metadata": {
    "colab": {
      "name": "1DTFIM.ipynb",
      "provenance": [],
      "collapsed_sections": []
    },
    "kernelspec": {
      "name": "python3",
      "display_name": "Python 3"
    }
  },
  "cells": [
    {
      "cell_type": "markdown",
      "metadata": {
        "id": "sTSdbQqick_U",
        "colab_type": "text"
      },
      "source": [
        "Sample code for 1D transverse field Ising model (TFIM)"
      ]
    },
    {
      "cell_type": "code",
      "metadata": {
        "id": "x1wRy-EDtX2I",
        "colab_type": "code",
        "colab": {}
      },
      "source": [
        "import numpy as np # library for numerics\n",
        "import scipy.linalg as la # library for linear algebra\n",
        "import random as rd # library for random numbers\n",
        "\n",
        "\n",
        "# return parity of a 64bit integer m (by Andrew Shapira)\n",
        "def parity(m):\n",
        "        m ^= m>>1\n",
        "        m ^= m>>2\n",
        "        m = (m&0x1111111111111111) * 0x1111111111111111\n",
        "        return (m>>60)&1\n",
        "\n",
        "\n",
        "# initialize a complex vector[0:2**N-1]\n",
        "def init_v(N):\n",
        "        v = np.array([])\n",
        "        for i in range(2**N):\n",
        "                v = np.append(v,0.0+0.0j)\n",
        "        return v\n",
        "\n",
        "# initialize a complex random vector[0:2**N-1]\n",
        "def rd_init_v(N):\n",
        "        v = np.array([])\n",
        "        norm = 0.0 + 0.0j\n",
        "        for i in range(2**N):\n",
        "                re = rd.random() - 0.5\n",
        "                im = rd.random() - 0.5\n",
        "                norm += re**2 + im**2\n",
        "                v = np.append(v,re+im*1.0j)\n",
        "        norm = np.sqrt(norm)\n",
        "        return v/norm # normalized"
      ],
      "execution_count": 3,
      "outputs": []
    },
    {
      "cell_type": "markdown",
      "metadata": {
        "id": "jDn3Dr6tvLAs",
        "colab_type": "text"
      },
      "source": [
        "Binary representaion for the spin at the $\\ell$th site: $|1\\rangle_{\\ell} = |\\uparrow\\rangle_{\\ell}$, $|0\\rangle_{\\ell} = |\\downarrow\\rangle_{\\ell}$"
      ]
    },
    {
      "cell_type": "markdown",
      "metadata": {
        "id": "cNI4AFB8fAhK",
        "colab_type": "text"
      },
      "source": [
        "$S=1/2$ spin operators acting on the $\\ell$th site transform a wave function $c_1 |1\\rangle_{\\ell} + c_0|0\\rangle_{\\ell}$ as follows:"
      ]
    },
    {
      "cell_type": "markdown",
      "metadata": {
        "id": "0UGxVLYDdSCB",
        "colab_type": "text"
      },
      "source": [
        "$\\hat{S}^x_{\\ell} \\left(c_1 |1\\rangle_{\\ell} + c_0|0\\rangle_{\\ell} \\right)=\\frac{1}{2}c_0 |1\\rangle_{\\ell} + \\frac{1}{2}c_1|0\\rangle_{\\ell}$, where $\\hat{S}^x_{\\ell}|1\\rangle_{\\ell} = +\\frac{1}{2}|0\\rangle_{\\ell}$ and $\\hat{S}^x_{\\ell}|0\\rangle_{\\ell} = \\frac{1}{2}|1\\rangle_{\\ell}$ "
      ]
    },
    {
      "cell_type": "markdown",
      "metadata": {
        "id": "SUMonZzJvak-",
        "colab_type": "text"
      },
      "source": [
        "$\\hat{S}^y_{\\ell} \\left(c_1 |1\\rangle_{\\ell} + c_0|0\\rangle_{\\ell} \\right)=-\\frac{i}{2}c_0 |1\\rangle_{\\ell} + \\frac{i}{2}c_1|0\\rangle_{\\ell}$, where $\\hat{S}^y_{\\ell}|1\\rangle_{\\ell} = +\\frac{i}{2}|0\\rangle_{\\ell}$ and $\\hat{S}^y_{\\ell}|0\\rangle_{\\ell} = -\\frac{i}{2}|1\\rangle_{\\ell}$ \n",
        "\n"
      ]
    },
    {
      "cell_type": "markdown",
      "metadata": {
        "id": "1bf37F5ndcfh",
        "colab_type": "text"
      },
      "source": [
        "$\\hat{S}^z_{\\ell} \\left(c_1 |1\\rangle_{\\ell} + c_0|0\\rangle_{\\ell} \\right)=\\frac{1}{2}c_0 |1\\rangle_{\\ell} - \\frac{1}{2}c_1|0\\rangle_{\\ell}$, where $\\hat{S}^z_{\\ell}|1\\rangle_{\\ell} = +\\frac{1}{2}|1\\rangle_{\\ell}$ and $\\hat{S}^z_{\\ell}|0\\rangle_{\\ell} = -\\frac{1}{2}|0\\rangle_{\\ell}$ "
      ]
    },
    {
      "cell_type": "markdown",
      "metadata": {
        "id": "H-vcmqJGvSK8",
        "colab_type": "text"
      },
      "source": [
        "The ket vector representation is mapped to a 2 dimensional vector representation: $\\hat{S}^y_{\\ell}\\left(c_1 |1\\rangle_{\\ell} + c_0|0\\rangle_{\\ell} \\right)=-\\frac{i}{2}c_0 |1\\rangle_{\\ell} + \\frac{i}{2}c_1|0\\rangle_{\\ell} \\rightarrow\n",
        "S^{y}\\left(\\begin{array}{c}c_1\\\\c_0\\\\\\end{array}\\right)\n",
        "=\\frac{1}{2}\\sigma^y \\left(\\begin{array}{c}c_1\\\\c_0\\\\\\end{array}\\right)$,\n",
        "where the Pauli matrices: $\\sigma^x=\\left(\\begin{array}{cc}0&1\\\\1&0\\\\\\end{array}\\right)$, \n",
        "$\\sigma^y=\\left(\\begin{array}{cc}0&-i\\\\+i&0\\\\\\end{array}\\right)$, \n",
        "$\\sigma^z=\\left(\\begin{array}{cc}+1&0\\\\0&-1\\\\\\end{array}\\right)$"
      ]
    },
    {
      "cell_type": "code",
      "metadata": {
        "id": "hblIWe5btrCs",
        "colab_type": "code",
        "colab": {}
      },
      "source": [
        "# define spin operators for S=1/2\n",
        "class spin_operators:\n",
        "        # function returns j, c1 that satsfies S^x_ell c0|i> = c1|j>\n",
        "        def SxI(self,ell,i,c0):\n",
        "                icomb = 2**ell\n",
        "                j = i^icomb\n",
        "                return j, (0.5 + 0.0j)*c0\n",
        "        # function returns j, c1 that satsfies S^y_ell c0|i> = c1|j>\n",
        "        def SyI(self,ell,i,c0):\n",
        "                icomb = 2**ell\n",
        "                ibit  = i&icomb\n",
        "                ibit  = parity(ibit) # obtain ellth bit (parity is not necessary)\n",
        "                j = i^icomb\n",
        "                return j, ((-1.0)**ibit) * (0.0 - 0.5j)*c0\n",
        "        # function returns j, c1 that satsfies S^z_ell c0|i> = c1|j>\n",
        "        def SzI(self,ell,i,c0):\n",
        "                icomb = 2**ell\n",
        "                ibit  = i&icomb\n",
        "                ibit  = parity(ibit) # obtain ellth bit (parity is not necessary)\n",
        "                return i, ((-1.0)**ibit) * (-0.5 + 0.0j)*c0"
      ],
      "execution_count": 4,
      "outputs": []
    },
    {
      "cell_type": "markdown",
      "metadata": {
        "id": "Lof-eO-6v0iJ",
        "colab_type": "text"
      },
      "source": [
        "The following class defines a 1D TFIM, $\\hat{H}=J\\sum_{i=0}^{L-1}\n",
        "  \\hat{S}^{z}_{{\\rm mod}(i+1,L)}\\hat{S}^{z}_{i}\n",
        "  -\\Gamma \\sum_{i=0}^{L-1} \\hat{S}^{x}_{i}$:"
      ]
    },
    {
      "cell_type": "code",
      "metadata": {
        "id": "yMk1N7LAtzEE",
        "colab_type": "code",
        "colab": {}
      },
      "source": [
        "# a class inherits from the class spin operators\n",
        "class hamiltonian(spin_operators):\n",
        "        # constructor for a L site 1D Heisenberg model with exchange coupling J\n",
        "        def __init__(self,L,J,Gamma):\n",
        "                self.L = L\n",
        "                self.J = J\n",
        "                self.Gamma = Gamma\n",
        "        def param(self):\n",
        "                print(\"L=\",self.L,\", J=\",self.J,\", Gamma=\",self.Gamma)\n",
        "        def multiply(self,v0,v1):\n",
        "                for i in range(2**(self.L)):\n",
        "                        c0 = v0[i]\n",
        "                        # define 1D TFIM\n",
        "                        for j in range(self.L):\n",
        "                                j1, c1 = self.SxI(j,i,c0)\n",
        "                                v1[j1] -= self.Gamma*c1\n",
        "                                j1, c1 = self.SzI(j,i,c0)\n",
        "                                j2, c2 = self.SzI((j+1)%self.L,j1,c1)\n",
        "                                v1[j2] += self.J*c2"
      ],
      "execution_count": 12,
      "outputs": []
    },
    {
      "cell_type": "markdown",
      "metadata": {
        "id": "fwJ7DR0xwR2O",
        "colab_type": "text"
      },
      "source": [
        "Set Hamiltonian parameters"
      ]
    },
    {
      "cell_type": "code",
      "metadata": {
        "id": "Bk5jvs0Ct2S9",
        "colab_type": "code",
        "colab": {
          "base_uri": "https://localhost:8080/",
          "height": 34
        },
        "outputId": "0807b000-9599-4760-a9ca-be6c601837fd"
      },
      "source": [
        "L = 6\n",
        "J = 1.0\n",
        "Gamma = 0.1\n",
        "ham = hamiltonian(L,J,Gamma)\n",
        "ham.param()"
      ],
      "execution_count": 18,
      "outputs": [
        {
          "output_type": "stream",
          "text": [
            "L= 6 , J= 1.0 , Gamma= 0.1\n"
          ],
          "name": "stdout"
        }
      ]
    },
    {
      "cell_type": "markdown",
      "metadata": {
        "id": "PcAg9MRAwfDb",
        "colab_type": "text"
      },
      "source": [
        "Construct Hamiltonian matrix $H$ and fully diagonalize $H$. The lowest eigenvalue is printed. When $L\\geq 12$, it tooks bit long."
      ]
    },
    {
      "cell_type": "code",
      "metadata": {
        "id": "Nx1sYimIt7cb",
        "colab_type": "code",
        "colab": {
          "base_uri": "https://localhost:8080/",
          "height": 34
        },
        "outputId": "18e81562-1274-4023-bc01-a231ba8f8d52"
      },
      "source": [
        "H = np.zeros((2**L,2**L),dtype=np.complex)\n",
        "for i in range(2**L):\n",
        "        v0 = init_v(L)\n",
        "        v1 = init_v(L)\n",
        "        v0[i] = 1.0 + 0.0j\n",
        "        ham.multiply(v0,v1)\n",
        "        for j in range(2**L):\n",
        "                H[j][i] = v1[j]\n",
        "eig_vals,eig_vec = la.eig(H)\n",
        "eig_id = np.argsort(eig_vals)\n",
        "eig_vals = eig_vals[eig_id]\n",
        "eig_vec = eig_vec[:,eig_id]\n",
        "print(eig_vals[0:5].real)"
      ],
      "execution_count": 19,
      "outputs": [
        {
          "output_type": "stream",
          "text": [
            "[-1.51504176 -1.51503401 -0.68222134 -0.65677644 -0.65677644]\n"
          ],
          "name": "stdout"
        }
      ]
    },
    {
      "cell_type": "markdown",
      "metadata": {
        "id": "_oUXSBEpgbPx",
        "colab_type": "text"
      },
      "source": [
        "Please complete the Lanczos steps below."
      ]
    },
    {
      "cell_type": "markdown",
      "metadata": {
        "id": "6LKNPHZMgie_",
        "colab_type": "text"
      },
      "source": [
        "Tips:\n",
        "1. The inner product of v0 and v1 is given by np.dot(v0.conjugate(),v1).\n",
        "2. The eigenvalues and eigenvectors of H_Ks[i,j] (0$\\leq$i,j$\\leq$m) is given through eig_vals,eig_vec = la.eig(H_Ks[0:m+1,0:m+1])."
      ]
    },
    {
      "cell_type": "code",
      "metadata": {
        "id": "SBvsmZ3uuGyz",
        "colab_type": "code",
        "colab": {
          "base_uri": "https://localhost:8080/",
          "height": 561
        },
        "outputId": "c09f18b8-a587-4d1e-c430-21bc8402221f"
      },
      "source": [
        "N_lmax = 32 # upper limit of the number of the Lanczos step\n",
        "v0 = init_v(L)\n",
        "w  = init_v(L)\n",
        "v1 = rd_init_v(L) # initial vector\n",
        "beta = 0.0 + 0.0j\n",
        "H_Ks = np.zeros((N_lmax+1,N_lmax+1),dtype=np.complex)\n",
        "for m in range(N_lmax):\n",
        "        w = -beta *  v0\n",
        "        ham.multiply(v1,w) # w += H * v1\n",
        "        alpha = np.dot(w.conjugate(),v1)\n",
        "        w += -alpha * v1\n",
        "        beta = np.sqrt(abs(np.dot(w.conjugate(),w)))\n",
        "        v0 = v1\n",
        "        v1 = w / beta\n",
        "        H_Ks[m,m] = alpha\n",
        "        H_Ks[m,m+1] = beta\n",
        "        H_Ks[m+1,m] = beta\n",
        "        eig_vals,eig_vec = la.eig(H_Ks[0:m+1,0:m+1])\n",
        "        eig_id = np.argsort(eig_vals)\n",
        "        eig_vals = eig_vals[eig_id]\n",
        "        eig_vec = eig_vec[:,eig_id]\n",
        "        if m < 2:\n",
        "          print(m,eig_vals[0].real)\n",
        "        else:\n",
        "          print(m,eig_vals[0].real,eig_vals[1].real,eig_vals[2].real)"
      ],
      "execution_count": 20,
      "outputs": [
        {
          "output_type": "stream",
          "text": [
            "0 -0.008392869460009209\n",
            "1 -0.5526467556965107\n",
            "2 -0.8751677746711348 0.053309033713210524 1.100791418962493\n",
            "3 -1.48592075729758 -0.5091146688904519 0.49411994053102054\n",
            "4 -1.511635529750449 -0.5340533708997582 0.09667547283522351\n",
            "5 -1.5149575205366046 -0.5954079535560869 -0.43797914768532525\n",
            "6 -1.5150295594205636 -0.6127514829269385 -0.46200340065387807\n",
            "7 -1.5150382338997337 -0.6460407196020037 -0.5245693000336509\n",
            "8 -1.515038396055067 -0.6548059910369414 -0.5401549137521645\n",
            "9 -1.5150384172004285 -0.6721421766749184 -0.5810957854220147\n",
            "10 -1.515038417504322 -0.6750664685649338 -0.587850571827728\n",
            "11 -1.515038417564865 -0.7330181775408062 -0.6626165606864137\n",
            "12 -1.515038417612127 -1.2029009987535924 -0.6746604217654499\n",
            "13 -1.51503841850135 -1.4989668931171438 -0.6776956558133904\n",
            "14 -1.515038424400412 -1.5128710239119023 -0.6782736043546596\n",
            "15 -1.515038835330732 -1.515003156895811 -0.679935872529629\n",
            "16 -1.5150406342890281 -1.5150317731759693 -0.6805097680329492\n",
            "17 -1.5150417363828041 -1.5150339796914778 -0.6816540524838933\n",
            "18 -1.5150417540106333 -1.515034003139929 -0.6818703626511733\n",
            "19 -1.515041755989731 -1.5150340057570852 -0.682168023190915\n",
            "20 -1.5150417560046265 -1.5150340057767695 -0.682196166260239\n",
            "21 -1.5150417560059966 -1.5150340057785805 -0.6822187639688247\n",
            "22 -1.515041756005999 -1.5150340057785843 -0.682219778631371\n",
            "23 -1.5150417560059999 -1.515034005778586 -0.6822211088934831\n",
            "24 -1.515041756005999 -1.515034005778586 -0.6822212227023647\n",
            "25 -1.5150417560060043 -1.51503400577859 -0.6822213326077139\n",
            "26 -1.515041756006001 -1.5150340057785867 -0.682221338539703\n",
            "27 -1.515041756006005 -1.51503400577859 -0.6822213440922281\n",
            "28 -1.515041756006004 -1.515034005778589 -0.6822213440967767\n",
            "29 -1.515041756006001 -1.515034005778587 -0.7411072252495665\n",
            "30 -1.515041756006002 -1.5150340057785865 -1.1701223233438836\n",
            "31 -1.515041756006003 -1.5150340057785883 -1.5149574435568527\n"
          ],
          "name": "stdout"
        }
      ]
    }
  ]
}