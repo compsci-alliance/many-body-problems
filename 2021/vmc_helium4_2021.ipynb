{
 "cells": [
  {
   "cell_type": "markdown",
   "metadata": {
    "colab_type": "text",
    "id": "sTSdbQqick_U"
   },
   "source": [
    "Sample code for 1D Heisenberg model"
   ]
  },
  {
   "cell_type": "code",
   "execution_count": 1,
   "metadata": {
    "colab": {},
    "colab_type": "code",
    "id": "x1wRy-EDtX2I"
   },
   "outputs": [],
   "source": [
    "import numpy as np # library for numerics\n",
    "import scipy.linalg as la # library for linear algebra\n",
    "import scipy.sparse.linalg as sla # library for sparse linear algebra\n",
    "from scipy.sparse import csr_matrix, csc_matrix, coo_matrix, lil_matrix\n",
    "import random as rd # library for random numbers\n",
    "import matplotlib.pyplot as plt\n",
    "\n",
    "\n",
    "# return parity of a 64bit integer m (by Andrew Shapira)\n",
    "def parity(m):\n",
    "        m ^= m>>1\n",
    "        m ^= m>>2\n",
    "        m = (m&0x1111111111111111) * 0x1111111111111111\n",
    "        return (m>>60)&1\n",
    "\n",
    "\n",
    "# initialize a complex vector[0:2**N-1]\n",
    "def init_v(N):\n",
    "        v = np.array([])\n",
    "        for i in range(2**N):\n",
    "                v = np.append(v,0.0+0.0j)\n",
    "        return v\n",
    "\n",
    "# initialize a complex random vector[0:2**N-1]\n",
    "def rd_init_v(N):\n",
    "        v = np.array([])\n",
    "        norm = 0.0 + 0.0j\n",
    "        for i in range(2**N):\n",
    "                re = rd.random()\n",
    "                im = rd.random()\n",
    "                norm += re**2 + im**2\n",
    "                v = np.append(v,re+im*1.0j)\n",
    "        norm = np.sqrt(norm)\n",
    "        return v/norm # normalized"
   ]
  },
  {
   "cell_type": "markdown",
   "metadata": {
    "colab_type": "text",
    "id": "jDn3Dr6tvLAs"
   },
   "source": [
    "Binary representaion for the spin at the $\\ell$th site: $|1\\rangle_{\\ell} = |\\uparrow\\rangle_{\\ell}$, $|0\\rangle_{\\ell} = |\\downarrow\\rangle_{\\ell}$"
   ]
  },
  {
   "cell_type": "markdown",
   "metadata": {
    "colab_type": "text",
    "id": "cNI4AFB8fAhK"
   },
   "source": [
    "$S=1/2$ spin operators acting on the $\\ell$th site transform a wave function $c_1 |1\\rangle_{\\ell} + c_0|0\\rangle_{\\ell}$ as follows:"
   ]
  },
  {
   "cell_type": "markdown",
   "metadata": {
    "colab_type": "text",
    "id": "0UGxVLYDdSCB"
   },
   "source": [
    "$\\hat{S}^x_{\\ell} \\left(c_1 |1\\rangle_{\\ell} + c_0|0\\rangle_{\\ell} \\right)=\\frac{1}{2}c_0 |1\\rangle_{\\ell} + \\frac{1}{2}c_1|0\\rangle_{\\ell}$, where $\\hat{S}^x_{\\ell}|1\\rangle_{\\ell} = +\\frac{1}{2}|0\\rangle_{\\ell}$ and $\\hat{S}^x_{\\ell}|0\\rangle_{\\ell} = \\frac{1}{2}|1\\rangle_{\\ell}$ "
   ]
  },
  {
   "cell_type": "markdown",
   "metadata": {
    "colab_type": "text",
    "id": "SUMonZzJvak-"
   },
   "source": [
    "$\\hat{S}^y_{\\ell} \\left(c_1 |1\\rangle_{\\ell} + c_0|0\\rangle_{\\ell} \\right)=-\\frac{i}{2}c_0 |1\\rangle_{\\ell} + \\frac{i}{2}c_1|0\\rangle_{\\ell}$, where $\\hat{S}^y_{\\ell}|1\\rangle_{\\ell} = +\\frac{i}{2}|0\\rangle_{\\ell}$ and $\\hat{S}^y_{\\ell}|0\\rangle_{\\ell} = -\\frac{i}{2}|1\\rangle_{\\ell}$ \n",
    "\n"
   ]
  },
  {
   "cell_type": "markdown",
   "metadata": {
    "colab_type": "text",
    "id": "1bf37F5ndcfh"
   },
   "source": [
    "$\\hat{S}^z_{\\ell} \\left(c_1 |1\\rangle_{\\ell} + c_0|0\\rangle_{\\ell} \\right)=\\frac{1}{2}c_0 |1\\rangle_{\\ell} - \\frac{1}{2}c_1|0\\rangle_{\\ell}$, where $\\hat{S}^z_{\\ell}|1\\rangle_{\\ell} = +\\frac{1}{2}|1\\rangle_{\\ell}$ and $\\hat{S}^z_{\\ell}|0\\rangle_{\\ell} = -\\frac{1}{2}|0\\rangle_{\\ell}$ "
   ]
  },
  {
   "cell_type": "markdown",
   "metadata": {
    "colab_type": "text",
    "id": "H-vcmqJGvSK8"
   },
   "source": [
    "The ket vector representation is mapped to a 2 dimensional vector representation: $\\hat{S}^y_{\\ell}\\left(c_1 |1\\rangle_{\\ell} + c_0|0\\rangle_{\\ell} \\right)=-\\frac{i}{2}c_0 |1\\rangle_{\\ell} + \\frac{i}{2}c_1|0\\rangle_{\\ell} \\rightarrow\n",
    "S^{y}\\left(\\begin{array}{c}c_1\\\\c_0\\\\\\end{array}\\right)\n",
    "=\\frac{1}{2}\\sigma^y \\left(\\begin{array}{c}c_1\\\\c_0\\\\\\end{array}\\right)$,\n",
    "where the Pauli matrices: $\\sigma^x=\\left(\\begin{array}{cc}0&1\\\\1&0\\\\\\end{array}\\right)$, \n",
    "$\\sigma^y=\\left(\\begin{array}{cc}0&-i\\\\+i&0\\\\\\end{array}\\right)$, \n",
    "$\\sigma^z=\\left(\\begin{array}{cc}+1&0\\\\0&-1\\\\\\end{array}\\right)$"
   ]
  },
  {
   "cell_type": "code",
   "execution_count": 17,
   "metadata": {
    "colab": {},
    "colab_type": "code",
    "id": "hblIWe5btrCs"
   },
   "outputs": [],
   "source": [
    "# define spin operators for S=1/2\n",
    "class spin_operators:\n",
    "        # function returns j, c1 that satsfies S^x_ell c0|i> = c1|j>\n",
    "        def SxI(self,ell,i,c0):\n",
    "                icomb = 2**ell\n",
    "                j = i^icomb\n",
    "                return j, (0.5 + 0.0j)*c0\n",
    "        # function returns j, c1 that satsfies S^y_ell c0|i> = c1|j>\n",
    "        def SyI(self,ell,i,c0):\n",
    "                icomb = 2**ell\n",
    "                ibit  = i&icomb\n",
    "                ibit  = parity(ibit) # obtain ellth bit (parity is not necessary)\n",
    "                j = i^icomb\n",
    "                return j, ((-1.0)**ibit) * (0.0 - 0.5j)*c0\n",
    "        # function returns j, c1 that satsfies S^z_ell c0|i> = c1|j>\n",
    "        def SzI(self,ell,i,c0):\n",
    "                icomb = 2**ell\n",
    "                ibit  = i&icomb\n",
    "                ibit  = parity(ibit) # obtain ellth bit (parity is not necessary)\n",
    "                return i, ((-1.0)**ibit) * (-0.5 + 0.0j)*c0"
   ]
  },
  {
   "cell_type": "markdown",
   "metadata": {
    "colab_type": "text",
    "id": "Lof-eO-6v0iJ"
   },
   "source": [
    "The following class defines a 1D Hamiltonian, $\\hat{H}=J\\sum_{i=0}^{L-1}\n",
    "\\left(\n",
    "  \\hat{S}^{x}_{{\\rm mod}(i+1,L)}\\hat{S}^{x}_{i}\n",
    "  +\n",
    "  \\hat{S}^{y}_{{\\rm mod}(i+1,L)}\\hat{S}^{y}_{i}\n",
    "  +\n",
    "  \\hat{S}^{z}_{{\\rm mod}(i+1,L)}\\hat{S}^{z}_{i}\n",
    "\\right)$:"
   ]
  },
  {
   "cell_type": "code",
   "execution_count": 18,
   "metadata": {
    "colab": {},
    "colab_type": "code",
    "id": "yMk1N7LAtzEE"
   },
   "outputs": [],
   "source": [
    "# a class inherits from the class spin operators\n",
    "class hamiltonian(spin_operators):\n",
    "        # constructor for a L site 1D Heisenberg model with exchange coupling J\n",
    "        def __init__(self,L,J):\n",
    "                self.L = L\n",
    "                self.J = J\n",
    "        def param(self):\n",
    "                print(\"L=\",self.L,\", J=\",self.J)\n",
    "        def multiply(self,v0,v1):\n",
    "                for i in range(2**(self.L)):\n",
    "                        c0 = v0[i]\n",
    "                        # define 1D Heisenberg model\n",
    "                        for j in range(self.L):\n",
    "                                j1, c1 = self.SxI(j,i,c0)\n",
    "                                j2, c2 = self.SxI((j+1)%self.L,j1,c1)\n",
    "                                v1[j2] += J*c2\n",
    "                                j1, c1 = self.SyI(j,i,c0)\n",
    "                                j2, c2 = self.SyI((j+1)%self.L,j1,c1)\n",
    "                                v1[j2] += J*c2\n",
    "                                j1, c1 = self.SzI(j,i,c0)\n",
    "                                j2, c2 = self.SzI((j+1)%self.L,j1,c1)\n",
    "                                v1[j2] += J*c2"
   ]
  },
  {
   "cell_type": "markdown",
   "metadata": {
    "colab_type": "text",
    "id": "fwJ7DR0xwR2O"
   },
   "source": [
    "Set Hamiltonian parameters"
   ]
  },
  {
   "cell_type": "code",
   "execution_count": 27,
   "metadata": {
    "colab": {
     "base_uri": "https://localhost:8080/",
     "height": 34
    },
    "colab_type": "code",
    "id": "Bk5jvs0Ct2S9",
    "outputId": "07874dce-1815-4750-d773-5e1a18742e7d"
   },
   "outputs": [
    {
     "name": "stdout",
     "output_type": "stream",
     "text": [
      "L= 10 , J= 1.0\n"
     ]
    }
   ],
   "source": [
    "L = 10\n",
    "J = 1.0\n",
    "ham = hamiltonian(L,J)\n",
    "ham.param()"
   ]
  },
  {
   "cell_type": "markdown",
   "metadata": {
    "colab_type": "text",
    "id": "PcAg9MRAwfDb"
   },
   "source": [
    "Construct Hamiltonian matrix $H$ and fully diagonalize $H$. The lowest eigenvalue is printed. When $L\\geq 12$, it tooks bit long."
   ]
  },
  {
   "cell_type": "code",
   "execution_count": 28,
   "metadata": {
    "colab": {
     "base_uri": "https://localhost:8080/",
     "height": 34
    },
    "colab_type": "code",
    "id": "Nx1sYimIt7cb",
    "outputId": "0d4ca9e3-aa2c-43a9-9281-590e2683dc9c"
   },
   "outputs": [
    {
     "name": "stdout",
     "output_type": "stream",
     "text": [
      "[-4.51544635 -4.09220735 -4.09220735 -4.09220735 -3.77059744]\n"
     ]
    }
   ],
   "source": [
    "H = np.zeros((2**L,2**L),dtype=np.complex)\n",
    "for i in range(2**L):\n",
    "        v0 = init_v(L)\n",
    "        v1 = init_v(L)\n",
    "        v0[i] = 1.0 + 0.0j\n",
    "        ham.multiply(v0,v1)\n",
    "        for j in range(2**L):\n",
    "                H[j][i] = v1[j]\n",
    "H_csr = csr_matrix(H)\n",
    "#eig_vals,eig_vec = la.eig(H)\n",
    "eig_vals,eig_vec = sla.eigs(H_csr) #疎行列形式に変換が必要\n",
    "eig_id = np.argsort(eig_vals)\n",
    "eig_vals = eig_vals[eig_id]\n",
    "eig_vec = eig_vec[:,eig_id]\n",
    "print(eig_vals[0:5].real)"
   ]
  },
  {
   "cell_type": "markdown",
   "metadata": {
    "colab_type": "text",
    "id": "_oUXSBEpgbPx"
   },
   "source": [
    "Please complete the Lanczos steps below."
   ]
  },
  {
   "cell_type": "markdown",
   "metadata": {
    "colab_type": "text",
    "id": "6LKNPHZMgie_"
   },
   "source": [
    "Tips:\n",
    "1. The inner product of v0 and v1 is given by np.dot(v0.conjugate(),v1).\n",
    "2. The eigenvalues and eigenvectors of H_Ks[i,j] (0$\\leq$i,j$\\leq$m) is given through eig_vals,eig_vec = la.eig(H_Ks[0:m+1,0:m+1])."
   ]
  },
  {
   "cell_type": "code",
   "execution_count": 30,
   "metadata": {
    "colab": {
     "base_uri": "https://localhost:8080/",
     "height": 561
    },
    "colab_type": "code",
    "id": "SBvsmZ3uuGyz",
    "outputId": "95867810-6dfa-48e3-d1bd-7e6eeb98574e"
   },
   "outputs": [
    {
     "name": "stdout",
     "output_type": "stream",
     "text": [
      "0 1.8693657258559768\n",
      "1 -1.269032469348084\n",
      "2 -2.630932877140178\n",
      "3 -3.4089109901931534\n",
      "4 -3.8666897302340546\n",
      "5 -4.142428405317837\n",
      "6 -4.296711332006867\n",
      "7 -4.395536748259165\n",
      "8 -4.4570286226346765\n",
      "9 -4.489070414467065\n",
      "10 -4.50446436842019\n",
      "11 -4.5119110467351735\n",
      "12 -4.514383163703098\n",
      "13 -4.515117496501205\n",
      "14 -4.515349618002835\n",
      "15 -4.515421744250787\n",
      "16 -4.515440131921327\n",
      "17 -4.515444756034324\n",
      "18 -4.515446051560749\n",
      "19 -4.515446307241909\n",
      "20 -4.515446347425678\n",
      "21 -4.515446353445261\n",
      "22 -4.515446354357108\n",
      "23 -4.515446354476274\n",
      "24 -4.515446354490161\n",
      "25 -4.515446354491836\n",
      "26 -4.515446354492013\n",
      "27 -4.51544635449205\n",
      "28 -4.515446354492047\n",
      "29 -4.5154463544920365\n",
      "30 -4.51544635449205\n",
      "31 -4.515446354492031\n"
     ]
    }
   ],
   "source": [
    "N_lmax = 32 # upper limit of the number of the Lanczos step\n",
    "v0 = init_v(L)\n",
    "w  = init_v(L)\n",
    "v1 = rd_init_v(L) # initial vector\n",
    "beta = 0.0 + 0.0j\n",
    "H_Ks = np.zeros((N_lmax+1,N_lmax+1),dtype=np.complex)\n",
    "for m in range(N_lmax):\n",
    "        w = -beta *  v0\n",
    "        ham.multiply(v1,w) # w += H * v1\n",
    "        alpha = np.dot(w.conjugate(),v1)\n",
    "        w += -alpha * v1\n",
    "        beta = np.sqrt(abs(np.dot(w.conjugate(),w)))\n",
    "        v0 = v1\n",
    "        v1 = w / beta\n",
    "        H_Ks[m,m] = alpha\n",
    "        H_Ks[m,m+1] = beta\n",
    "        H_Ks[m+1,m] = beta\n",
    "        eig_vals,eig_vec = la.eig(H_Ks[0:m+1,0:m+1])\n",
    "        eig_id = np.argsort(eig_vals)\n",
    "        eig_vals = eig_vals[eig_id]\n",
    "        print(m,eig_vals[0].real)"
   ]
  },
  {
   "cell_type": "code",
   "execution_count": 2,
   "metadata": {
    "colab": {},
    "colab_type": "code",
    "id": "Ab8n1JE146d0"
   },
   "outputs": [],
   "source": [
    "class helium4:\n",
    "\n",
    "  def __init__(self,L,N,a1,a2):\n",
    "    self.L = L # lnear length of cubic\n",
    "    self.N = N # particle number\n",
    "    self.a1 = a1 # variational parameter defines length scale\n",
    "    self.a2 = a2 # power\n",
    "    self.rcut = 0.5*a1 # cutoff for particle-particle distance\n",
    "    self.config = np.zeros((N,3),dtype=np.float64)\n",
    "    self.dist = np.zeros((N,N),dtype=np.float64)\n",
    "\n",
    "  def function_u(self,r):\n",
    "    if r > self.rcut:\n",
    "      uofr = (self.a1/r)**self.a2\n",
    "    else:\n",
    "      uofr = (self.a1/self.rcut)**self.a2\n",
    "    return uofr\n",
    "\n",
    "  def initialize_config(self):\n",
    "    for j in range(self.N):\n",
    "      for i in range(3):\n",
    "        self.config[j][i] = self.L * rd.random()\n",
    "    for iupdate in range(self.N):\n",
    "      self.update_dist(iupdate)\n",
    "\n",
    "  def update_config(self,iupdate):\n",
    "    d = 0.05*self.L\n",
    "    for i in range(3):\n",
    "      self.config[iupdate][i] += 2.0*d*(rd.random()-0.5)\n",
    "      if self.config[iupdate][i] > self.L:\n",
    "        self.config[iupdate][i] -= self.L\n",
    "      elif self.config[iupdate][i] < 0.0:\n",
    "        self.config[iupdate][i] += self.L\n",
    "\n",
    "  def update_dist(self,iupdate):\n",
    "    for j in range(self.N):\n",
    "      tmp_dist = self.dist_periodic(he4.config[j],he4.config[iupdate]) \n",
    "      if tmp_dist > self.rcut:\n",
    "        self.dist[j,iupdate] = tmp_dist\n",
    "        self.dist[iupdate,j] = tmp_dist\n",
    "      else:\n",
    "        self.dist[j,iupdate] = self.rcut\n",
    "        self.dist[iupdate,j] = self.rcut\n",
    "\n",
    "  def dist_periodic(self,vec1,vec2):\n",
    "    dist_old = np.sqrt(3.0)*self.L\n",
    "    for iz in range(-1,2):\n",
    "      for iy in range(-1,2):\n",
    "        for ix in range(-1,2):\n",
    "          tmp_dist = 0.0\n",
    "          tmp_dist += ( self.L*ix + vec1[0] - vec2[0])**2\n",
    "          tmp_dist += ( self.L*iy + vec1[1] - vec2[1])**2\n",
    "          tmp_dist += ( self.L*iz + vec1[2] - vec2[2])**2\n",
    "          tmp_dist = np.sqrt(tmp_dist)\n",
    "          if tmp_dist < dist_old:\n",
    "            dist_old = tmp_dist\n",
    "          #print(self.L*ix,self.L*iy,self.L*iz,tmp_dist,dist_old)\n",
    "    return dist_old\n",
    "\n",
    "  def accum_Nrdr(self,Ndr,Nrdr):\n",
    "    rmax = 0.5*self.L\n",
    "    dr = rmax/Ndr\n",
    "    for m in range(Ndr):\n",
    "      r = rmax*(m + 0.5)/Ndr\n",
    "      for i in range(self.N-1):\n",
    "        for j in range(i+1,self.N):\n",
    "          if self.dist[i][j] >= r - 0.5*dr and self.dist[i][j] < r + 0.5*dr:\n",
    "            Nrdr[m] = Nrdr[m] + 1.0\n",
    "\n",
    "  def calc_gofr(self,Nsample,Ndr,Nrdr,gofr,vecr):\n",
    "    Omega = self.L**3\n",
    "    rho = 1.0*self.N / Omega\n",
    "    rmax = 0.5*self.L\n",
    "    dr = rmax/Ndr\n",
    "    for m in  range(Ndr):\n",
    "      r = rmax*(m+0.5)/Ndr\n",
    "      vecr[m] = r\n",
    "      gofr[m] = Nrdr[m]/(2.0*Nsample*np.pi*rho*rho*Omega*r*r*dr)\n"
   ]
  },
  {
   "cell_type": "code",
   "execution_count": 3,
   "metadata": {
    "colab": {
     "base_uri": "https://localhost:8080/",
     "height": 1000
    },
    "colab_type": "code",
    "id": "mMpZEdw6kGzE",
    "outputId": "85d0a72e-d8c9-4fcb-ab59-a1e963f122c0"
   },
   "outputs": [
    {
     "name": "stdout",
     "output_type": "stream",
     "text": [
      "Wup 0\n",
      "Wup 10\n",
      "Wup 20\n",
      "Wup 30\n",
      "Wup 40\n",
      "Wup 50\n",
      "Wup 60\n",
      "Wup 70\n",
      "Wup 80\n",
      "Wup 90\n",
      "Wup 100\n",
      "Wup 110\n",
      "Wup 120\n",
      "Wup 130\n",
      "Wup 140\n",
      "Wup 150\n",
      "Wup 160\n",
      "Wup 170\n",
      "Wup 180\n",
      "Wup 190\n",
      "Wup 200\n",
      "Wup 210\n",
      "Wup 220\n",
      "Wup 230\n",
      "Wup 240\n",
      "Wup 250\n",
      "Wup 260\n",
      "Wup 270\n",
      "Wup 280\n",
      "Wup 290\n",
      "Wup 300\n",
      "Wup 310\n",
      "Wup 320\n",
      "Wup 330\n",
      "Wup 340\n",
      "Wup 350\n",
      "Wup 360\n",
      "Wup 370\n",
      "Wup 380\n",
      "Wup 390\n",
      "MCstep 0\n",
      "MCstep 10\n",
      "MCstep 20\n",
      "MCstep 30\n",
      "MCstep 40\n",
      "MCstep 50\n",
      "MCstep 60\n",
      "MCstep 70\n",
      "MCstep 80\n",
      "MCstep 90\n",
      "MCstep 100\n",
      "MCstep 110\n",
      "MCstep 120\n",
      "MCstep 130\n",
      "MCstep 140\n",
      "MCstep 150\n",
      "MCstep 160\n",
      "MCstep 170\n",
      "MCstep 180\n",
      "MCstep 190\n",
      "MCstep 200\n",
      "MCstep 210\n",
      "MCstep 220\n",
      "MCstep 230\n",
      "MCstep 240\n",
      "MCstep 250\n",
      "MCstep 260\n",
      "MCstep 270\n",
      "MCstep 280\n",
      "MCstep 290\n",
      "MCstep 300\n",
      "MCstep 310\n",
      "MCstep 320\n",
      "MCstep 330\n",
      "MCstep 340\n",
      "MCstep 350\n",
      "MCstep 360\n",
      "MCstep 370\n",
      "MCstep 380\n",
      "MCstep 390\n",
      "MCstep 400\n",
      "MCstep 410\n",
      "MCstep 420\n",
      "MCstep 430\n",
      "MCstep 440\n",
      "MCstep 450\n",
      "MCstep 460\n",
      "MCstep 470\n",
      "MCstep 480\n",
      "MCstep 490\n",
      "MCstep 500\n",
      "MCstep 510\n",
      "MCstep 520\n",
      "MCstep 530\n",
      "MCstep 540\n",
      "MCstep 550\n",
      "MCstep 560\n",
      "MCstep 570\n",
      "MCstep 580\n",
      "MCstep 590\n",
      "MCstep 600\n",
      "MCstep 610\n",
      "MCstep 620\n",
      "MCstep 630\n",
      "MCstep 640\n",
      "MCstep 650\n",
      "MCstep 660\n",
      "MCstep 670\n",
      "MCstep 680\n",
      "MCstep 690\n",
      "MCstep 700\n",
      "MCstep 710\n",
      "MCstep 720\n",
      "MCstep 730\n",
      "MCstep 740\n",
      "MCstep 750\n",
      "MCstep 760\n",
      "MCstep 770\n",
      "MCstep 780\n",
      "MCstep 790\n"
     ]
    },
    {
     "data": {
      "text/plain": [
       "[<matplotlib.lines.Line2D at 0x12b75c1c0>]"
      ]
     },
     "execution_count": 3,
     "metadata": {},
     "output_type": "execute_result"
    },
    {
     "data": {
      "image/png": "[encoded data removed]",
      "text/plain": [
       "<Figure size 432x288 with 1 Axes>"
      ]
     },
     "metadata": {
      "needs_background": "light"
     },
     "output_type": "display_data"
    }
   ],
   "source": [
    "rd.seed(0)\n",
    "he4 = helium4(11.2,32,2.6,5)\n",
    "he4.initialize_config()\n",
    "#print(he4.config)\n",
    "#print(he4.dist)\n",
    "#print(int(1.99))\n",
    "#config_old = np.zeros((he4.N,3),dtype=np.float64)\n",
    "#config_old[:][:] = he4.config[:][:]\n",
    "#print(config_old)\n",
    "#he4.update_config(0)\n",
    "#print(config_old)\n",
    "#print(he4.config)\n",
    "Ndr = 64\n",
    "Nrdr = np.zeros((Ndr),dtype=np.float64)\n",
    "gofr = np.zeros((Ndr),dtype=np.float64)\n",
    "vecr = np.zeros((Ndr),dtype=np.float64)\n",
    "Nsample = 800\n",
    "Nwup = 400\n",
    "config_old = np.zeros((he4.N,3),dtype=np.float64)\n",
    "dist_old = np.zeros((he4.N,he4.N),dtype=np.float64)\n",
    "for i in range(Nwup):\n",
    "  for j in range(he4.N):\n",
    "    config_old[:][:] = he4.config[:][:]\n",
    "    dist_old[:][:] = he4.dist[:][:]\n",
    "    iupdate = rd.randrange(he4.N)\n",
    "    he4.update_config(iupdate)\n",
    "    he4.update_dist(iupdate)\n",
    "    lnPNt = 0.0\n",
    "    lnPNi = 0.0\n",
    "    for m in range(he4.N):\n",
    "      if m != iupdate:\n",
    "        lnPNt -= 2.0*he4.function_u(he4.dist[m][iupdate])\n",
    "        lnPNi -= 2.0*he4.function_u(dist_old[m][iupdate])\n",
    "    #print(lnPNt,lnPNi)\n",
    "    ratio = np.exp(lnPNt - lnPNi)\n",
    "    if ratio <= rd.random():\n",
    "      he4.config[:][:] = config_old[:][:]\n",
    "      he4.dist[:][:] = dist_old[:][:]\n",
    "  if i%10 == 0:\n",
    "    print(\"Wup\",i)\n",
    "\n",
    "for i in range(Nsample):\n",
    "  for j in range(he4.N):\n",
    "    config_old[:][:] = he4.config[:][:]\n",
    "    dist_old[:][:] = he4.dist[:][:]\n",
    "    iupdate = rd.randrange(he4.N)\n",
    "    he4.update_config(iupdate)\n",
    "    he4.update_dist(iupdate)\n",
    "    lnPNt = 0.0\n",
    "    lnPNi = 0.0\n",
    "    for m in range(he4.N):\n",
    "      if m != iupdate:\n",
    "        lnPNt -= 2.0*he4.function_u(he4.dist[m][iupdate])\n",
    "        lnPNi -= 2.0*he4.function_u(dist_old[m][iupdate])\n",
    "    #print(lnPNt,lnPNi)\n",
    "    ratio = np.exp(lnPNt - lnPNi)\n",
    "    if ratio <= rd.random():\n",
    "      he4.config[:][:] = config_old[:][:]\n",
    "      he4.dist[:][:] = dist_old[:][:]\n",
    "  if i%10 == 0:\n",
    "    print(\"MCstep\",i)\n",
    "  he4.accum_Nrdr(Ndr,Nrdr)\n",
    "he4.calc_gofr(Nsample,Ndr,Nrdr,gofr,vecr)\n",
    "plt.plot(vecr,gofr)"
   ]
  },
  {
   "cell_type": "code",
   "execution_count": null,
   "metadata": {},
   "outputs": [],
   "source": []
  }
 ],
 "metadata": {
  "colab": {
   "collapsed_sections": [],
   "name": "vmc_helium4.ipynb",
   "provenance": []
  },
  "kernelspec": {
   "display_name": "Python 3",
   "language": "python",
   "name": "python3"
  },
  "language_info": {
   "codemirror_mode": {
    "name": "ipython",
    "version": 3
   },
   "file_extension": ".py",
   "mimetype": "text/x-python",
   "name": "python",
   "nbconvert_exporter": "python",
   "pygments_lexer": "ipython3",
   "version": "3.9.4"
  }
 },
 "nbformat": 4,
 "nbformat_minor": 1
}
